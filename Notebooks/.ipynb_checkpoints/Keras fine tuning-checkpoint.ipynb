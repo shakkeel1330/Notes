{
 "cells": [
  {
   "cell_type": "markdown",
   "metadata": {},
   "source": [
    "# Notes #\n",
    "\n",
    "Next step(By 3rd, Saturday, November, 2018)\n",
    "+ Get an equivalent performance in Keras(How?)\n",
    "    1. Understand Keras end to end\n",
    "    2. Start playing around with the \"nuts and bolts\" in Keras\n",
    "    3. Reflect on the feedback you get from step 2\n",
    "    4. Final optimized version by repeating 2-3\n",
    "    \n",
    "+ Notes on Step 1\n",
    "    + Core data structure of Keras is model\n",
    "    + Sequential model and the functional APIs\n",
    "    + Dense layer and it's params\n",
    "        + Units - \n",
    "    + Tensor v/s matrix\n",
    "    + The input layer in Keras is not a layer in itself but a tensor. Hence you have to define\n",
    "    the shape of it\n",
    "    + What does each layer signify? Dense, convolution etc..\n",
    "    + batch_size in input_shape()\n",
    "    + As you keep increasing the epoch the accuracy increases and hits 100%. This is due to overfitting.\n",
    "    Hence, tracking the validation loss along with loss would be useful to keep an eye on overfitting.\n",
    "    + Using earlyStopping to avoid overfitting\n",
    "    \n",
    "+ Notes on Step 2\n",
    "    + Let's get started with fine-tuning!\n",
    "    + Core qs \n",
    "        - How to improve the performance of a neural network?\n",
    "            - First and foremost, check if your current implementation is even remotely\n",
    "            close to what you want(Single layered NN that represents a logistic regression model)\n",
    "            - Cross check the batch_size and epoch values.\n",
    "            - Other param changes\n",
    "            - Dense params\n",
    "            - compile params -- loss, optimizer etc..\n",
    "            - fit params -- batch_size, epochs etc..\n",
    "        - Is the current execution right?\n",
    "        - How to validate that the current execution is in fact a replication of\n",
    "        sklearn's logistic regression model?"
   ]
  },
  {
   "cell_type": "code",
   "execution_count": null,
   "metadata": {},
   "outputs": [],
   "source": [
    "# Code trials #"
   ]
  },
  {
   "cell_type": "markdown",
   "metadata": {},
   "source": [
    "# Qs #\n",
    "1. Why do we prefer to stick to perceptron model?(Soma)\n",
    "2. How to improve the performance of a single layered LR NN?\n",
    "    + Parmaeters and hyperparameters?s\n",
    "3. How do you validate that what you have created in Keras is in fact an equivalent of the  \n",
    "scikit model?\n",
    "4. What is Dropout layer used for? \n",
    "5. earlyStopping - functionality and use cases\n",
    "6. Why do we have to normalize the dataset?"
   ]
  }
 ],
 "metadata": {
  "kernelspec": {
   "display_name": "Python 3",
   "language": "python",
   "name": "python3"
  },
  "language_info": {
   "codemirror_mode": {
    "name": "ipython",
    "version": 3
   },
   "file_extension": ".py",
   "mimetype": "text/x-python",
   "name": "python",
   "nbconvert_exporter": "python",
   "pygments_lexer": "ipython3",
   "version": "3.6.6"
  }
 },
 "nbformat": 4,
 "nbformat_minor": 2
}
