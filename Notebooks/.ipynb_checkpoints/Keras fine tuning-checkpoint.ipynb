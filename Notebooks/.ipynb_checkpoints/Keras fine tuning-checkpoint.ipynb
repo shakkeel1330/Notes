{
 "cells": [
  {
   "cell_type": "markdown",
   "metadata": {},
   "source": [
    "# Notes #\n",
    "\n",
    "Next step(By 3rd, Saturday, November, 2018)\n",
    "+ Get an equivalent performance in Keras(How?)\n",
    "    1. Understand Keras end to end\n",
    "    2. Start playing around with the \"nuts and bolts\" in Keras\n",
    "    3. Reflect on the feedback you get from step 2\n",
    "    4. Final optimized version by repeating 2-3\n",
    "    \n",
    "+ Notes on Step 1\n",
    "    + "
   ]
  },
  {
   "cell_type": "code",
   "execution_count": null,
   "metadata": {},
   "outputs": [],
   "source": [
    "# Code trials #"
   ]
  }
 ],
 "metadata": {
  "kernelspec": {
   "display_name": "Python 3",
   "language": "python",
   "name": "python3"
  },
  "language_info": {
   "codemirror_mode": {
    "name": "ipython",
    "version": 3
   },
   "file_extension": ".py",
   "mimetype": "text/x-python",
   "name": "python",
   "nbconvert_exporter": "python",
   "pygments_lexer": "ipython3",
   "version": "3.6.6"
  }
 },
 "nbformat": 4,
 "nbformat_minor": 2
}
