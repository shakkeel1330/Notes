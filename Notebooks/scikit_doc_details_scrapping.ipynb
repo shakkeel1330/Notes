{
 "cells": [
  {
   "cell_type": "code",
   "execution_count": 1,
   "metadata": {},
   "outputs": [],
   "source": [
    "import requests\n",
    "from bs4 import BeautifulSoup"
   ]
  },
  {
   "cell_type": "code",
   "execution_count": 2,
   "metadata": {},
   "outputs": [],
   "source": [
    "page = requests.get('https://scikit-learn.org/stable/supervised_learning.html#supervised-learning')"
   ]
  },
  {
   "cell_type": "code",
   "execution_count": 4,
   "metadata": {},
   "outputs": [],
   "source": [
    "soup = BeautifulSoup(page.text, 'html.parser')"
   ]
  },
  {
   "cell_type": "code",
   "execution_count": 5,
   "metadata": {},
   "outputs": [
    {
     "data": {
      "text/plain": [
       "<li class=\"toctree-l1\"><a class=\"reference internal\" href=\"modules/linear_model.html\">1.1. Generalized Linear Models</a><ul>\n",
       "<li class=\"toctree-l2\"><a class=\"reference internal\" href=\"modules/linear_model.html#ordinary-least-squares\">1.1.1. Ordinary Least Squares</a><ul>\n",
       "<li class=\"toctree-l3\"><a class=\"reference internal\" href=\"modules/linear_model.html#ordinary-least-squares-complexity\">1.1.1.1. Ordinary Least Squares Complexity</a></li>\n",
       "</ul>\n",
       "</li>\n",
       "<li class=\"toctree-l2\"><a class=\"reference internal\" href=\"modules/linear_model.html#ridge-regression\">1.1.2. Ridge Regression</a><ul>\n",
       "<li class=\"toctree-l3\"><a class=\"reference internal\" href=\"modules/linear_model.html#ridge-complexity\">1.1.2.1. Ridge Complexity</a></li>\n",
       "<li class=\"toctree-l3\"><a class=\"reference internal\" href=\"modules/linear_model.html#setting-the-regularization-parameter-generalized-cross-validation\">1.1.2.2. Setting the regularization parameter: generalized Cross-Validation</a></li>\n",
       "</ul>\n",
       "</li>\n",
       "<li class=\"toctree-l2\"><a class=\"reference internal\" href=\"modules/linear_model.html#lasso\">1.1.3. Lasso</a><ul>\n",
       "<li class=\"toctree-l3\"><a class=\"reference internal\" href=\"modules/linear_model.html#setting-regularization-parameter\">1.1.3.1. Setting regularization parameter</a><ul>\n",
       "<li class=\"toctree-l4\"><a class=\"reference internal\" href=\"modules/linear_model.html#using-cross-validation\">1.1.3.1.1. Using cross-validation</a></li>\n",
       "<li class=\"toctree-l4\"><a class=\"reference internal\" href=\"modules/linear_model.html#information-criteria-based-model-selection\">1.1.3.1.2. Information-criteria based model selection</a></li>\n",
       "<li class=\"toctree-l4\"><a class=\"reference internal\" href=\"modules/linear_model.html#comparison-with-the-regularization-parameter-of-svm\">1.1.3.1.3. Comparison with the regularization parameter of SVM</a></li>\n",
       "</ul>\n",
       "</li>\n",
       "</ul>\n",
       "</li>\n",
       "<li class=\"toctree-l2\"><a class=\"reference internal\" href=\"modules/linear_model.html#multi-task-lasso\">1.1.4. Multi-task Lasso</a></li>\n",
       "<li class=\"toctree-l2\"><a class=\"reference internal\" href=\"modules/linear_model.html#elastic-net\">1.1.5. Elastic Net</a></li>\n",
       "<li class=\"toctree-l2\"><a class=\"reference internal\" href=\"modules/linear_model.html#multi-task-elastic-net\">1.1.6. Multi-task Elastic Net</a></li>\n",
       "<li class=\"toctree-l2\"><a class=\"reference internal\" href=\"modules/linear_model.html#least-angle-regression\">1.1.7. Least Angle Regression</a></li>\n",
       "<li class=\"toctree-l2\"><a class=\"reference internal\" href=\"modules/linear_model.html#lars-lasso\">1.1.8. LARS Lasso</a><ul>\n",
       "<li class=\"toctree-l3\"><a class=\"reference internal\" href=\"modules/linear_model.html#mathematical-formulation\">1.1.8.1. Mathematical formulation</a></li>\n",
       "</ul>\n",
       "</li>\n",
       "<li class=\"toctree-l2\"><a class=\"reference internal\" href=\"modules/linear_model.html#orthogonal-matching-pursuit-omp\">1.1.9. Orthogonal Matching Pursuit (OMP)</a></li>\n",
       "<li class=\"toctree-l2\"><a class=\"reference internal\" href=\"modules/linear_model.html#bayesian-regression\">1.1.10. Bayesian Regression</a><ul>\n",
       "<li class=\"toctree-l3\"><a class=\"reference internal\" href=\"modules/linear_model.html#bayesian-ridge-regression\">1.1.10.1. Bayesian Ridge Regression</a></li>\n",
       "<li class=\"toctree-l3\"><a class=\"reference internal\" href=\"modules/linear_model.html#automatic-relevance-determination-ard\">1.1.10.2. Automatic Relevance Determination - ARD</a></li>\n",
       "</ul>\n",
       "</li>\n",
       "<li class=\"toctree-l2\"><a class=\"reference internal\" href=\"modules/linear_model.html#logistic-regression\">1.1.11. Logistic regression</a></li>\n",
       "<li class=\"toctree-l2\"><a class=\"reference internal\" href=\"modules/linear_model.html#stochastic-gradient-descent-sgd\">1.1.12. Stochastic Gradient Descent - SGD</a></li>\n",
       "<li class=\"toctree-l2\"><a class=\"reference internal\" href=\"modules/linear_model.html#perceptron\">1.1.13. Perceptron</a></li>\n",
       "<li class=\"toctree-l2\"><a class=\"reference internal\" href=\"modules/linear_model.html#passive-aggressive-algorithms\">1.1.14. Passive Aggressive Algorithms</a></li>\n",
       "<li class=\"toctree-l2\"><a class=\"reference internal\" href=\"modules/linear_model.html#robustness-regression-outliers-and-modeling-errors\">1.1.15. Robustness regression: outliers and modeling errors</a><ul>\n",
       "<li class=\"toctree-l3\"><a class=\"reference internal\" href=\"modules/linear_model.html#different-scenario-and-useful-concepts\">1.1.15.1. Different scenario and useful concepts</a></li>\n",
       "<li class=\"toctree-l3\"><a class=\"reference internal\" href=\"modules/linear_model.html#ransac-random-sample-consensus\">1.1.15.2. RANSAC: RANdom SAmple Consensus</a><ul>\n",
       "<li class=\"toctree-l4\"><a class=\"reference internal\" href=\"modules/linear_model.html#details-of-the-algorithm\">1.1.15.2.1. Details of the algorithm</a></li>\n",
       "</ul>\n",
       "</li>\n",
       "<li class=\"toctree-l3\"><a class=\"reference internal\" href=\"modules/linear_model.html#theil-sen-estimator-generalized-median-based-estimator\">1.1.15.3. Theil-Sen estimator: generalized-median-based estimator</a><ul>\n",
       "<li class=\"toctree-l4\"><a class=\"reference internal\" href=\"modules/linear_model.html#theoretical-considerations\">1.1.15.3.1. Theoretical considerations</a></li>\n",
       "</ul>\n",
       "</li>\n",
       "<li class=\"toctree-l3\"><a class=\"reference internal\" href=\"modules/linear_model.html#huber-regression\">1.1.15.4. Huber Regression</a></li>\n",
       "<li class=\"toctree-l3\"><a class=\"reference internal\" href=\"modules/linear_model.html#notes\">1.1.15.5. Notes</a></li>\n",
       "</ul>\n",
       "</li>\n",
       "<li class=\"toctree-l2\"><a class=\"reference internal\" href=\"modules/linear_model.html#polynomial-regression-extending-linear-models-with-basis-functions\">1.1.16. Polynomial regression: extending linear models with basis functions</a></li>\n",
       "</ul>\n",
       "</li>"
      ]
     },
     "execution_count": 5,
     "metadata": {},
     "output_type": "execute_result"
    }
   ],
   "source": [
    "# Extract main header #\n",
    "main_header = soup.find(class_='toctree-l1')\n",
    "# Extract corresponding sub header #\n",
    "main_header"
   ]
  },
  {
   "cell_type": "code",
   "execution_count": null,
   "metadata": {},
   "outputs": [],
   "source": []
  }
 ],
 "metadata": {
  "kernelspec": {
   "display_name": "Python 3",
   "language": "python",
   "name": "python3"
  },
  "language_info": {
   "codemirror_mode": {
    "name": "ipython",
    "version": 3
   },
   "file_extension": ".py",
   "mimetype": "text/x-python",
   "name": "python",
   "nbconvert_exporter": "python",
   "pygments_lexer": "ipython3",
   "version": "3.6.6"
  }
 },
 "nbformat": 4,
 "nbformat_minor": 2
}
