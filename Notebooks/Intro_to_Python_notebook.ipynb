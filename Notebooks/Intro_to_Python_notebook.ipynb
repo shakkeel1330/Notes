{
 "cells": [
  {
   "cell_type": "markdown",
   "metadata": {},
   "source": [
    "Notes from \"Introduction to Python\" by Bill Lubanovic  \n",
    "\n",
    "Purpose -  \n",
    "1. To jot down learnings and qs from the book  \n",
    "2. To try out the code snippets in the book\n",
    "\n",
    "Format -  \n",
    "Two segment of cells for each chapter. One for notes/qs, the other for code.\n"
   ]
  },
  {
   "cell_type": "markdown",
   "metadata": {},
   "source": [
    "# Chapter 1 - A taste of Py #\n",
    "\n",
    "Notes  \n",
    " - Python vs other languages\n",
    "     + Shell scripts. Bash and batch files\n",
    "     + Static languages - \"Then why are they called static languages? Because variables in those languages can’t\n",
    "ever change their type; they’re static. An integer is an integer, forever and ever.\"\n",
    "     + Dynamic languages : Compiler(static languages) vs Interpreter(dynamic languages)\n",
    "\n",
    "Nothing much in this chapter. Details/thoughts by the author on why Python? what it does? how it looks? etc."
   ]
  },
  {
   "cell_type": "markdown",
   "metadata": {},
   "source": [
    "# Chapter 2 - Py Ingredients: Numbers, strings and variables #\n",
    "\n",
    "Notes  \n",
    " - Everything in Python is treated as an object.\n",
    " - Python is _strongly typed_ \n",
    " - Mutable and immutable objects\n",
    " - Variables are just names. Assignment doesn't copy the value; it just attaches the name to the object\n",
    " - Python treats names that start with an underscore in special ways\n",
    " \n",
    "Qs  \n",
    " - Why is everything in Python treated as an object?\n",
    " - Why can't a digit start with '0' in Python?"
   ]
  },
  {
   "cell_type": "markdown",
   "metadata": {},
   "source": [
    "# Chapter 3 - Py filling: lists, tuples and dictionaries #"
   ]
  },
  {
   "cell_type": "code",
   "execution_count": null,
   "metadata": {},
   "outputs": [],
   "source": []
  }
 ],
 "metadata": {
  "kernelspec": {
   "display_name": "Python 3",
   "language": "python",
   "name": "python3"
  },
  "language_info": {
   "codemirror_mode": {
    "name": "ipython",
    "version": 3
   },
   "file_extension": ".py",
   "mimetype": "text/x-python",
   "name": "python",
   "nbconvert_exporter": "python",
   "pygments_lexer": "ipython3",
   "version": "3.6.6"
  }
 },
 "nbformat": 4,
 "nbformat_minor": 2
}
