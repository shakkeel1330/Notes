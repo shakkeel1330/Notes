{
 "cells": [
  {
   "cell_type": "markdown",
   "metadata": {},
   "source": [
    "# Steps involved #\n",
    "1. Research on datasets\n",
    "2. Collate the dataset details to a sheet\n",
    "3. Do a dry run on keras set up"
   ]
  },
  {
   "cell_type": "markdown",
   "metadata": {},
   "source": [
    "# Step 1 #\n",
    "**Finding datasets**\n",
    "1. Types of datasets\n",
    "    + Are there industry standards that define different categories of\n",
    "    datasets?  \n",
    "    So far it looks like there aren't any set standards per se.\n",
    "    + Create a very basic set of categories using n,p and c as params  \n",
    "    and look for these datasets in the repos you have shortlisted\n",
    "    + Firstly, find a binary dataset with large sample size and \n",
    "    small number of features\n",
    "        - The UCI Adult dataset\n",
    "        \n",
    "    + Second option, large feature count and small number of instances\n",
    "        - A dataset with say 10 - 1000 instances and 10,000 features\n",
    "        - MNIST by retaining a small amount of instances?\n",
    "        - "
   ]
  },
  {
   "cell_type": "code",
   "execution_count": null,
   "metadata": {},
   "outputs": [],
   "source": []
  }
 ],
 "metadata": {
  "kernelspec": {
   "display_name": "Python 2",
   "language": "python",
   "name": "python2"
  },
  "language_info": {
   "codemirror_mode": {
    "name": "ipython",
    "version": 2
   },
   "file_extension": ".py",
   "mimetype": "text/x-python",
   "name": "python",
   "nbconvert_exporter": "python",
   "pygments_lexer": "ipython2",
   "version": "2.7.15"
  }
 },
 "nbformat": 4,
 "nbformat_minor": 2
}
