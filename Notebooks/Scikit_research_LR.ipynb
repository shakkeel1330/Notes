{
 "cells": [
  {
   "cell_type": "markdown",
   "metadata": {},
   "source": [
    "__Work Outline__\n",
    "\n",
    "__Purpose of this notebook__ :\n",
    "    a. To provide a \"zoomed-out\" view of my work\n",
    "    b. To keep a track of my estimates(JIRA like approach. Weekly level)\n",
    "    c. To save experimental code snippets.Ex - Trying out different scikit models and\n",
    "    playing around with their existing code\n",
    "\n",
    "__Phase I can be split into 4 levels__ - \n",
    "    1. Inspecting/analyzing the scikit models\n",
    "    2. Inspecting/analyzing the keras implementations\n",
    "    3. Mapping these two structures(hopefully the above two steps should assist)\n",
    "    4. Final level of ONNX conversion\n",
    "    \n",
    "    \n",
    "__Task breakdown__ - \n",
    "\n",
    " __By Friday, 26th October 2018__\n",
    " - Complete upto Phase I task 2\n",
    " Task 1 -- Analyzing scikit logistic regression model\n",
    "     1) Description\n",
    "     2) Estimated time\n",
    "     3) Progress update(Brief one-liner per day. Detailed updates should be done in Work Journal.\n",
    "     4)Notes/Qs - **Must be synced in Work Journal**. Add it in \"Notes/Qs cell\"\n",
    "     \n",
    " Task 2 -- Analyzing Keras implementation of Logistic regression model\n",
    "     1) Description\n",
    "    \n",
    "\n",
    "\n"
   ]
  },
  {
   "cell_type": "code",
   "execution_count": null,
   "metadata": {},
   "outputs": [],
   "source": []
  }
 ],
 "metadata": {
  "kernelspec": {
   "display_name": "Python 3",
   "language": "python",
   "name": "python3"
  },
  "language_info": {
   "codemirror_mode": {
    "name": "ipython",
    "version": 3
   },
   "file_extension": ".py",
   "mimetype": "text/x-python",
   "name": "python",
   "nbconvert_exporter": "python",
   "pygments_lexer": "ipython3",
   "version": "3.6.6"
  }
 },
 "nbformat": 4,
 "nbformat_minor": 2
}
