{
 "cells": [
  {
   "cell_type": "markdown",
   "metadata": {},
   "source": [
    "# Notes #\n",
    "1. Data preparation\n",
    "    + Should we normalize the dataset? If yes, then why?\n",
    "    + Basic steps\n",
    "        - Load data\n",
    "        - Check for missing values(*No missing values in this case*)\n",
    "        - Convert categorical fields to numerical(All categorical fields are represented  \n",
    "        as digits)\n",
    "        - Check class distribution\n",
    "            + Filtering the dataset with the first two classes.\n",
    "            + The split should then be roughly 50/50.\n",
    "        - Normalize data if necessary\n",
    "\n",
    "\n",
    "**Rough notes**  \n",
    "1."
   ]
  },
  {
   "cell_type": "markdown",
   "metadata": {},
   "source": [
    "---"
   ]
  },
  {
   "cell_type": "markdown",
   "metadata": {},
   "source": [
    "**Data preparation**"
   ]
  },
  {
   "cell_type": "code",
   "execution_count": 2,
   "metadata": {},
   "outputs": [
    {
     "data": {
      "text/plain": [
       "(495141, 54)"
      ]
     },
     "execution_count": 2,
     "metadata": {},
     "output_type": "execute_result"
    }
   ],
   "source": [
    "# Data preparation #\n",
    "\n",
    "# Load CSV using Pandas\n",
    "import pandas as pd\n",
    "import numpy as np\n",
    "# filename = 'adult.data1.csv'\n",
    "# names = []\n",
    "data = pd.read_csv(\"covtype.data.csv\", delimiter=\",\", header=None, index_col=False)\n",
    "\n",
    "data = data[data[54].isin([1,2])]\n",
    "\n",
    "Y = data.iloc[:, -1]\n",
    "X = X = data.iloc[:,:-1]\n",
    "\n",
    "# Normalize the X values #\n",
    "from sklearn.preprocessing import StandardScaler\n",
    "sc = StandardScaler()\n",
    "X = sc.fit_transform(X)\n",
    "\n",
    "# feature_list = names[:14]\n",
    "# # Test train split #\n",
    "# X = data.loc[:, feature_list]\n",
    "# Y = data[['target']]\n",
    "\n",
    "# # Split the dataset into test and train datasets\n",
    "\n",
    "from sklearn.model_selection import train_test_split\n",
    "x_train, x_test, y_train, y_test = train_test_split(X, Y, test_size=0.60, random_state=0)\n",
    "\n",
    "X.shape\n"
   ]
  },
  {
   "cell_type": "markdown",
   "metadata": {},
   "source": [
    "---"
   ]
  },
  {
   "cell_type": "markdown",
   "metadata": {},
   "source": [
    "**Keras Model**"
   ]
  },
  {
   "cell_type": "code",
   "execution_count": 3,
   "metadata": {},
   "outputs": [
    {
     "name": "stdout",
     "output_type": "stream",
     "text": [
      "Epoch 1/5000\n",
      "198056/198056 [==============================] - 177s 896us/step - loss: -0.3623 - acc: 0.2600\n",
      "Epoch 2/5000\n",
      "198056/198056 [==============================] - 6s 30us/step - loss: -2.0739 - acc: 0.3041\n",
      "Epoch 3/5000\n",
      "198056/198056 [==============================] - 5s 27us/step - loss: -3.6365 - acc: 0.3213\n",
      "Epoch 4/5000\n",
      "198056/198056 [==============================] - 6s 33us/step - loss: -4.9172 - acc: 0.3604\n",
      "Epoch 5/5000\n",
      "198056/198056 [==============================] - 7s 36us/step - loss: -6.0687 - acc: 0.3810\n",
      "Epoch 6/5000\n",
      "198056/198056 [==============================] - 7s 35us/step - loss: -7.0782 - acc: 0.3988\n",
      "Epoch 7/5000\n",
      "198056/198056 [==============================] - 6s 32us/step - loss: -7.8766 - acc: 0.4158\n",
      "Epoch 8/5000\n",
      "198056/198056 [==============================] - 6s 33us/step - loss: -8.4710 - acc: 0.4265\n",
      "Epoch 9/5000\n",
      "198056/198056 [==============================] - 6s 29us/step - loss: -8.8938 - acc: 0.4289\n",
      "Epoch 10/5000\n",
      "198056/198056 [==============================] - 6s 28us/step - loss: -9.0526 - acc: 0.4289\n",
      "Epoch 11/5000\n",
      "198056/198056 [==============================] - 7s 34us/step - loss: -9.0901 - acc: 0.4289\n",
      "Epoch 12/5000\n",
      "198056/198056 [==============================] - 7s 33us/step - loss: -9.0973 - acc: 0.4289\n",
      "Epoch 13/5000\n",
      "198056/198056 [==============================] - 7s 36us/step - loss: -9.0997 - acc: 0.4289\n",
      "Epoch 14/5000\n",
      "198056/198056 [==============================] - 6s 32us/step - loss: -9.0999 - acc: 0.4289\n",
      "Epoch 15/5000\n",
      "198056/198056 [==============================] - 7s 35us/step - loss: -9.0999 - acc: 0.4289\n",
      "Epoch 16/5000\n",
      "198056/198056 [==============================] - 7s 37us/step - loss: -9.0999 - acc: 0.4289\n",
      "Epoch 17/5000\n",
      "198056/198056 [==============================] - 7s 36us/step - loss: -9.0999 - acc: 0.4289\n",
      "Epoch 18/5000\n",
      "198056/198056 [==============================] - 7s 36us/step - loss: -9.0999 - acc: 0.4289\n",
      "Epoch 19/5000\n",
      "198056/198056 [==============================] - 6s 31us/step - loss: -9.0999 - acc: 0.4289\n",
      "Epoch 20/5000\n",
      "198056/198056 [==============================] - 7s 34us/step - loss: -9.0999 - acc: 0.4289\n",
      "Epoch 21/5000\n",
      "198056/198056 [==============================] - 7s 34us/step - loss: -9.0999 - acc: 0.4289\n",
      "Epoch 22/5000\n",
      "198056/198056 [==============================] - 7s 36us/step - loss: -9.0999 - acc: 0.4289\n",
      "Epoch 23/5000\n",
      "198056/198056 [==============================] - 7s 36us/step - loss: -9.0999 - acc: 0.4289\n",
      "Epoch 24/5000\n",
      "198056/198056 [==============================] - 7s 36us/step - loss: -9.0999 - acc: 0.4289\n",
      "Epoch 25/5000\n",
      "198056/198056 [==============================] - 7s 35us/step - loss: -9.0999 - acc: 0.4289\n",
      "Epoch 26/5000\n",
      "198056/198056 [==============================] - 5s 27us/step - loss: -9.0999 - acc: 0.4289\n",
      "Epoch 27/5000\n",
      "198056/198056 [==============================] - 6s 31us/step - loss: -9.0999 - acc: 0.4289\n",
      "Epoch 28/5000\n",
      "198056/198056 [==============================] - 7s 33us/step - loss: -9.0999 - acc: 0.4289\n",
      "Epoch 29/5000\n",
      "198056/198056 [==============================] - 6s 33us/step - loss: -9.0999 - acc: 0.4289\n",
      "Epoch 30/5000\n",
      "198056/198056 [==============================] - 7s 36us/step - loss: -9.0999 - acc: 0.4289\n",
      "Epoch 31/5000\n",
      "198056/198056 [==============================] - 7s 36us/step - loss: -9.0999 - acc: 0.4289\n",
      "Epoch 32/5000\n",
      "198056/198056 [==============================] - 7s 35us/step - loss: -9.0999 - acc: 0.4289\n",
      "Epoch 33/5000\n",
      "198056/198056 [==============================] - 7s 37us/step - loss: -9.0999 - acc: 0.4289\n",
      "Epoch 34/5000\n",
      "198056/198056 [==============================] - 6s 32us/step - loss: -9.0999 - acc: 0.4289\n",
      "Epoch 35/5000\n",
      "198056/198056 [==============================] - 7s 33us/step - loss: -9.0999 - acc: 0.4289\n",
      "Epoch 36/5000\n",
      "198056/198056 [==============================] - 7s 36us/step - loss: -9.0999 - acc: 0.4289\n",
      "Epoch 37/5000\n",
      "198056/198056 [==============================] - 7s 36us/step - loss: -9.0999 - acc: 0.4289\n",
      "Epoch 38/5000\n",
      "198056/198056 [==============================] - 7s 36us/step - loss: -9.0999 - acc: 0.4289\n",
      "Epoch 39/5000\n",
      "198056/198056 [==============================] - 7s 36us/step - loss: -9.0999 - acc: 0.4289\n",
      "Epoch 40/5000\n",
      "198056/198056 [==============================] - 7s 36us/step - loss: -9.0999 - acc: 0.4289\n",
      "Epoch 41/5000\n",
      "198056/198056 [==============================] - 6s 31us/step - loss: -9.0999 - acc: 0.4289\n",
      "Epoch 42/5000\n",
      "198056/198056 [==============================] - 7s 36us/step - loss: -9.0999 - acc: 0.4289\n",
      "Epoch 43/5000\n",
      "198056/198056 [==============================] - 7s 33us/step - loss: -9.0999 - acc: 0.4289\n",
      "Epoch 44/5000\n",
      "198056/198056 [==============================] - 6s 31us/step - loss: -9.0999 - acc: 0.4289\n",
      "Epoch 45/5000\n",
      "198056/198056 [==============================] - 7s 36us/step - loss: -9.0999 - acc: 0.4289\n",
      "Epoch 46/5000\n",
      "198056/198056 [==============================] - 7s 36us/step - loss: -9.0999 - acc: 0.4289\n",
      "Epoch 47/5000\n",
      "198056/198056 [==============================] - 7s 35us/step - loss: -9.0999 - acc: 0.4289\n",
      "Epoch 48/5000\n",
      "198056/198056 [==============================] - 7s 36us/step - loss: -9.0999 - acc: 0.4289\n",
      "Epoch 49/5000\n",
      "198056/198056 [==============================] - 7s 36us/step - loss: -9.0999 - acc: 0.4289\n",
      "Epoch 50/5000\n",
      "198056/198056 [==============================] - 7s 36us/step - loss: -9.0999 - acc: 0.4289\n",
      "Epoch 51/5000\n",
      "198056/198056 [==============================] - 7s 34us/step - loss: -9.0999 - acc: 0.4289\n",
      "Epoch 52/5000\n",
      "198056/198056 [==============================] - 6s 33us/step - loss: -9.0999 - acc: 0.4289\n",
      "Epoch 53/5000\n",
      "198056/198056 [==============================] - 6s 30us/step - loss: -9.0999 - acc: 0.4289\n",
      "Epoch 54/5000\n",
      "198056/198056 [==============================] - 7s 35us/step - loss: -9.0999 - acc: 0.4289\n",
      "Epoch 55/5000\n",
      "198056/198056 [==============================] - 7s 36us/step - loss: -9.0999 - acc: 0.4289\n",
      "Epoch 56/5000\n",
      "198056/198056 [==============================] - 7s 37us/step - loss: -9.0999 - acc: 0.4289\n",
      "Epoch 57/5000\n",
      "198056/198056 [==============================] - 7s 36us/step - loss: -9.0999 - acc: 0.4289\n",
      "Epoch 58/5000\n",
      "198056/198056 [==============================] - 7s 37us/step - loss: -9.0999 - acc: 0.4289\n",
      "Epoch 59/5000\n",
      "198056/198056 [==============================] - 7s 37us/step - loss: -9.0999 - acc: 0.4289\n",
      "Epoch 60/5000\n",
      "198056/198056 [==============================] - 7s 36us/step - loss: -9.0999 - acc: 0.4289\n",
      "Epoch 61/5000\n",
      "198056/198056 [==============================] - 7s 36us/step - loss: -9.0999 - acc: 0.4289\n",
      "Epoch 62/5000\n",
      "198056/198056 [==============================] - 6s 32us/step - loss: -9.0999 - acc: 0.4289\n",
      "Epoch 63/5000\n",
      "198056/198056 [==============================] - 7s 36us/step - loss: -9.0999 - acc: 0.4289\n",
      "Epoch 64/5000\n",
      "198056/198056 [==============================] - 7s 36us/step - loss: -9.0999 - acc: 0.4289\n",
      "Epoch 65/5000\n",
      "198056/198056 [==============================] - 7s 37us/step - loss: -9.0999 - acc: 0.4289\n",
      "Epoch 66/5000\n",
      "198056/198056 [==============================] - 7s 36us/step - loss: -9.0999 - acc: 0.4289\n",
      "Epoch 67/5000\n",
      "198056/198056 [==============================] - 7s 37us/step - loss: -9.0999 - acc: 0.4289\n",
      "Epoch 68/5000\n",
      "198056/198056 [==============================] - 7s 35us/step - loss: -9.0999 - acc: 0.4289\n",
      "Epoch 69/5000\n",
      "198056/198056 [==============================] - 7s 35us/step - loss: -9.0999 - acc: 0.4289\n",
      "Epoch 70/5000\n",
      "198056/198056 [==============================] - 7s 37us/step - loss: -9.0999 - acc: 0.4289\n",
      "Epoch 71/5000\n",
      "198056/198056 [==============================] - 7s 36us/step - loss: -9.0999 - acc: 0.4289\n",
      "Epoch 72/5000\n",
      "198056/198056 [==============================] - 7s 35us/step - loss: -9.0999 - acc: 0.4289\n",
      "Epoch 73/5000\n",
      "198056/198056 [==============================] - 7s 37us/step - loss: -9.0999 - acc: 0.4289\n",
      "Epoch 74/5000\n",
      "198056/198056 [==============================] - 7s 37us/step - loss: -9.0999 - acc: 0.4289\n",
      "Epoch 75/5000\n",
      "198056/198056 [==============================] - 7s 35us/step - loss: -9.0999 - acc: 0.4289\n",
      "Epoch 76/5000\n",
      "198056/198056 [==============================] - 7s 37us/step - loss: -9.0999 - acc: 0.4289\n",
      "Epoch 77/5000\n",
      " 43600/198056 [=====>........................] - ETA: 5s - loss: -9.0963 - acc: 0.4292"
     ]
    },
    {
     "ename": "KeyboardInterrupt",
     "evalue": "",
     "output_type": "error",
     "traceback": [
      "\u001b[1;31m---------------------------------------------------------------------------\u001b[0m",
      "\u001b[1;31mKeyboardInterrupt\u001b[0m                         Traceback (most recent call last)",
      "\u001b[1;32m<ipython-input-3-115b1e64b05e>\u001b[0m in \u001b[0;36m<module>\u001b[1;34m()\u001b[0m\n\u001b[0;32m     20\u001b[0m \u001b[1;31m# Fit the model #\u001b[0m\u001b[1;33m\u001b[0m\u001b[1;33m\u001b[0m\u001b[0m\n\u001b[0;32m     21\u001b[0m \u001b[1;33m\u001b[0m\u001b[0m\n\u001b[1;32m---> 22\u001b[1;33m \u001b[0mmodel\u001b[0m\u001b[1;33m.\u001b[0m\u001b[0mfit\u001b[0m\u001b[1;33m(\u001b[0m\u001b[0mx_train\u001b[0m\u001b[1;33m,\u001b[0m \u001b[0my_train\u001b[0m\u001b[1;33m,\u001b[0m \u001b[0mepochs\u001b[0m\u001b[1;33m=\u001b[0m\u001b[1;36m5000\u001b[0m\u001b[1;33m,\u001b[0m \u001b[0mbatch_size\u001b[0m\u001b[1;33m=\u001b[0m\u001b[1;36m100\u001b[0m\u001b[1;33m)\u001b[0m\u001b[1;33m\u001b[0m\u001b[0m\n\u001b[0m\u001b[0;32m     23\u001b[0m \u001b[1;33m\u001b[0m\u001b[0m\n\u001b[0;32m     24\u001b[0m \u001b[1;31m# Evaluate the model #\u001b[0m\u001b[1;33m\u001b[0m\u001b[1;33m\u001b[0m\u001b[0m\n",
      "\u001b[1;32m~\\Anaconda2\\envs\\py36\\lib\\site-packages\\keras\\engine\\training.py\u001b[0m in \u001b[0;36mfit\u001b[1;34m(self, x, y, batch_size, epochs, verbose, callbacks, validation_split, validation_data, shuffle, class_weight, sample_weight, initial_epoch, steps_per_epoch, validation_steps, **kwargs)\u001b[0m\n\u001b[0;32m   1037\u001b[0m                                         \u001b[0minitial_epoch\u001b[0m\u001b[1;33m=\u001b[0m\u001b[0minitial_epoch\u001b[0m\u001b[1;33m,\u001b[0m\u001b[1;33m\u001b[0m\u001b[0m\n\u001b[0;32m   1038\u001b[0m                                         \u001b[0msteps_per_epoch\u001b[0m\u001b[1;33m=\u001b[0m\u001b[0msteps_per_epoch\u001b[0m\u001b[1;33m,\u001b[0m\u001b[1;33m\u001b[0m\u001b[0m\n\u001b[1;32m-> 1039\u001b[1;33m                                         validation_steps=validation_steps)\n\u001b[0m\u001b[0;32m   1040\u001b[0m \u001b[1;33m\u001b[0m\u001b[0m\n\u001b[0;32m   1041\u001b[0m     def evaluate(self, x=None, y=None,\n",
      "\u001b[1;32m~\\Anaconda2\\envs\\py36\\lib\\site-packages\\keras\\engine\\training_arrays.py\u001b[0m in \u001b[0;36mfit_loop\u001b[1;34m(model, f, ins, out_labels, batch_size, epochs, verbose, callbacks, val_f, val_ins, shuffle, callback_metrics, initial_epoch, steps_per_epoch, validation_steps)\u001b[0m\n\u001b[0;32m    197\u001b[0m                     \u001b[0mins_batch\u001b[0m\u001b[1;33m[\u001b[0m\u001b[0mi\u001b[0m\u001b[1;33m]\u001b[0m \u001b[1;33m=\u001b[0m \u001b[0mins_batch\u001b[0m\u001b[1;33m[\u001b[0m\u001b[0mi\u001b[0m\u001b[1;33m]\u001b[0m\u001b[1;33m.\u001b[0m\u001b[0mtoarray\u001b[0m\u001b[1;33m(\u001b[0m\u001b[1;33m)\u001b[0m\u001b[1;33m\u001b[0m\u001b[0m\n\u001b[0;32m    198\u001b[0m \u001b[1;33m\u001b[0m\u001b[0m\n\u001b[1;32m--> 199\u001b[1;33m                 \u001b[0mouts\u001b[0m \u001b[1;33m=\u001b[0m \u001b[0mf\u001b[0m\u001b[1;33m(\u001b[0m\u001b[0mins_batch\u001b[0m\u001b[1;33m)\u001b[0m\u001b[1;33m\u001b[0m\u001b[0m\n\u001b[0m\u001b[0;32m    200\u001b[0m                 \u001b[0mouts\u001b[0m \u001b[1;33m=\u001b[0m \u001b[0mto_list\u001b[0m\u001b[1;33m(\u001b[0m\u001b[0mouts\u001b[0m\u001b[1;33m)\u001b[0m\u001b[1;33m\u001b[0m\u001b[0m\n\u001b[0;32m    201\u001b[0m                 \u001b[1;32mfor\u001b[0m \u001b[0ml\u001b[0m\u001b[1;33m,\u001b[0m \u001b[0mo\u001b[0m \u001b[1;32min\u001b[0m \u001b[0mzip\u001b[0m\u001b[1;33m(\u001b[0m\u001b[0mout_labels\u001b[0m\u001b[1;33m,\u001b[0m \u001b[0mouts\u001b[0m\u001b[1;33m)\u001b[0m\u001b[1;33m:\u001b[0m\u001b[1;33m\u001b[0m\u001b[0m\n",
      "\u001b[1;32m~\\Anaconda2\\envs\\py36\\lib\\site-packages\\keras\\backend\\tensorflow_backend.py\u001b[0m in \u001b[0;36m__call__\u001b[1;34m(self, inputs)\u001b[0m\n\u001b[0;32m   2713\u001b[0m                 \u001b[1;32mreturn\u001b[0m \u001b[0mself\u001b[0m\u001b[1;33m.\u001b[0m\u001b[0m_legacy_call\u001b[0m\u001b[1;33m(\u001b[0m\u001b[0minputs\u001b[0m\u001b[1;33m)\u001b[0m\u001b[1;33m\u001b[0m\u001b[0m\n\u001b[0;32m   2714\u001b[0m \u001b[1;33m\u001b[0m\u001b[0m\n\u001b[1;32m-> 2715\u001b[1;33m             \u001b[1;32mreturn\u001b[0m \u001b[0mself\u001b[0m\u001b[1;33m.\u001b[0m\u001b[0m_call\u001b[0m\u001b[1;33m(\u001b[0m\u001b[0minputs\u001b[0m\u001b[1;33m)\u001b[0m\u001b[1;33m\u001b[0m\u001b[0m\n\u001b[0m\u001b[0;32m   2716\u001b[0m         \u001b[1;32melse\u001b[0m\u001b[1;33m:\u001b[0m\u001b[1;33m\u001b[0m\u001b[0m\n\u001b[0;32m   2717\u001b[0m             \u001b[1;32mif\u001b[0m \u001b[0mpy_any\u001b[0m\u001b[1;33m(\u001b[0m\u001b[0mis_tensor\u001b[0m\u001b[1;33m(\u001b[0m\u001b[0mx\u001b[0m\u001b[1;33m)\u001b[0m \u001b[1;32mfor\u001b[0m \u001b[0mx\u001b[0m \u001b[1;32min\u001b[0m \u001b[0minputs\u001b[0m\u001b[1;33m)\u001b[0m\u001b[1;33m:\u001b[0m\u001b[1;33m\u001b[0m\u001b[0m\n",
      "\u001b[1;32m~\\Anaconda2\\envs\\py36\\lib\\site-packages\\keras\\backend\\tensorflow_backend.py\u001b[0m in \u001b[0;36m_call\u001b[1;34m(self, inputs)\u001b[0m\n\u001b[0;32m   2653\u001b[0m                 array_vals.append(\n\u001b[0;32m   2654\u001b[0m                     np.asarray(value,\n\u001b[1;32m-> 2655\u001b[1;33m                                dtype=tf.as_dtype(tensor.dtype).as_numpy_dtype))\n\u001b[0m\u001b[0;32m   2656\u001b[0m         \u001b[1;32mif\u001b[0m \u001b[0mself\u001b[0m\u001b[1;33m.\u001b[0m\u001b[0mfeed_dict\u001b[0m\u001b[1;33m:\u001b[0m\u001b[1;33m\u001b[0m\u001b[0m\n\u001b[0;32m   2657\u001b[0m             \u001b[1;32mfor\u001b[0m \u001b[0mkey\u001b[0m \u001b[1;32min\u001b[0m \u001b[0msorted\u001b[0m\u001b[1;33m(\u001b[0m\u001b[0mself\u001b[0m\u001b[1;33m.\u001b[0m\u001b[0mfeed_dict\u001b[0m\u001b[1;33m.\u001b[0m\u001b[0mkeys\u001b[0m\u001b[1;33m(\u001b[0m\u001b[1;33m)\u001b[0m\u001b[1;33m)\u001b[0m\u001b[1;33m:\u001b[0m\u001b[1;33m\u001b[0m\u001b[0m\n",
      "\u001b[1;32m~\\Anaconda2\\envs\\py36\\lib\\site-packages\\numpy\\core\\numeric.py\u001b[0m in \u001b[0;36masarray\u001b[1;34m(a, dtype, order)\u001b[0m\n\u001b[0;32m    499\u001b[0m \u001b[1;33m\u001b[0m\u001b[0m\n\u001b[0;32m    500\u001b[0m     \"\"\"\n\u001b[1;32m--> 501\u001b[1;33m     \u001b[1;32mreturn\u001b[0m \u001b[0marray\u001b[0m\u001b[1;33m(\u001b[0m\u001b[0ma\u001b[0m\u001b[1;33m,\u001b[0m \u001b[0mdtype\u001b[0m\u001b[1;33m,\u001b[0m \u001b[0mcopy\u001b[0m\u001b[1;33m=\u001b[0m\u001b[1;32mFalse\u001b[0m\u001b[1;33m,\u001b[0m \u001b[0morder\u001b[0m\u001b[1;33m=\u001b[0m\u001b[0morder\u001b[0m\u001b[1;33m)\u001b[0m\u001b[1;33m\u001b[0m\u001b[0m\n\u001b[0m\u001b[0;32m    502\u001b[0m \u001b[1;33m\u001b[0m\u001b[0m\n\u001b[0;32m    503\u001b[0m \u001b[1;33m\u001b[0m\u001b[0m\n",
      "\u001b[1;31mKeyboardInterrupt\u001b[0m: "
     ]
    }
   ],
   "source": [
    "# Keras #\n",
    "\n",
    "### Logistic regression using DNN ###\n",
    "import numpy as np\n",
    "from keras.models import Sequential\n",
    "from keras.layers.core import Dense, Activation\n",
    "from keras.utils import np_utils\n",
    "\n",
    "np.random.seed(7)\n",
    "\n",
    "# Defining model #\n",
    "\n",
    "model = Sequential()\n",
    "model.add(Dense(1,input_dim=54,activation='sigmoid'))\n",
    "\n",
    "# Compile the model #\n",
    "\n",
    "model.compile(loss='binary_crossentropy', optimizer='adam', metrics=['accuracy'])\n",
    "\n",
    "# Fit the model #\n",
    "\n",
    "model.fit(x_train, y_train, epochs=5000, batch_size=100)\n",
    "\n",
    "# Evaluate the model #\n",
    "\n",
    "scores = model.evaluate(x_test, y_test)\n",
    "print(\"\\n%s: %.2f%%\" % (model.metrics_names[1], scores[1]*100))"
   ]
  },
  {
   "cell_type": "markdown",
   "metadata": {},
   "source": [
    "---"
   ]
  },
  {
   "cell_type": "markdown",
   "metadata": {},
   "source": [
    "**Scikit model**"
   ]
  },
  {
   "cell_type": "code",
   "execution_count": 20,
   "metadata": {},
   "outputs": [
    {
     "name": "stdout",
     "output_type": "stream",
     "text": [
      "[2 2 1 ... 2 1 2]\n",
      "0.7756837268795126\n"
     ]
    }
   ],
   "source": [
    "# Scikit learn #\n",
    "\n",
    "# Import and create an instance of your model(Logistic regression)\n",
    "\n",
    "from sklearn.linear_model import LogisticRegression\n",
    "logisticRegr = LogisticRegression()\n",
    "\n",
    "# Train your model using the training dataset\n",
    "\n",
    "logisticRegr.fit(x_train,y_train)\n",
    "\n",
    "# Predict the output \n",
    "\n",
    "predictions = logisticRegr.predict(x_test)\n",
    "print(predictions)\n",
    "\n",
    "score = logisticRegr.score(x_test,y_test)\n",
    "print(score)\n"
   ]
  },
  {
   "cell_type": "markdown",
   "metadata": {},
   "source": [
    "---"
   ]
  },
  {
   "cell_type": "markdown",
   "metadata": {},
   "source": [
    "**Kfold validation**"
   ]
  },
  {
   "cell_type": "code",
   "execution_count": null,
   "metadata": {},
   "outputs": [],
   "source": [
    "# Validation #\n",
    "from keras.models import Sequential\n",
    "from keras.layers import Dense\n",
    "from sklearn.model_selection import StratifiedKFold\n",
    "import numpy\n",
    "\n",
    "seed = 7\n",
    "numpy.random.seed(seed)\n",
    "\n",
    "kfold = StratifiedKFold(n_splits=10, shuffle=True, random_state=seed)\n",
    "cvscores = []\n",
    "\n",
    "for train, test in kfold.split(X, Y):\n",
    "    # create model\n",
    "    model = Sequential()\n",
    "    model.add(Dense(1,input_dim=14,activation='sigmoid'))\n",
    "    # Compile model\n",
    "    model.compile(loss='binary_crossentropy', optimizer='adam', metrics=['accuracy'])\n",
    "    # Fit the model\n",
    "    model.fit(X.iloc[train], Y.iloc[train], epochs=500, batch_size=100, verbose=0)\n",
    "    # evaluate the model\n",
    "    scores = model.evaluate(X.iloc[test], Y.iloc[test], verbose=0)\n",
    "    print(\"%s: %.2f%%\" % (model.metrics_names[1], scores[1]*100))\n",
    "    cvscores.append(scores[1] * 100)\n",
    "print(\"%.2f%% (+/- %.2f%%)\" % (numpy.mean(cvscores), numpy.std(cvscores))) \n"
   ]
  },
  {
   "cell_type": "markdown",
   "metadata": {},
   "source": [
    "---"
   ]
  },
  {
   "cell_type": "markdown",
   "metadata": {},
   "source": [
    "**ROC Curve and Confusion matrix**"
   ]
  },
  {
   "cell_type": "code",
   "execution_count": null,
   "metadata": {},
   "outputs": [],
   "source": [
    "# Prediction #\n",
    "from sklearn import metrics\n",
    "import matplotlib.pyplot as plt\n",
    "from sklearn.metrics import confusion_matrix\n",
    "\n",
    "y_pred = model.predict(x_test)\n",
    "# y_pred = (y_pred>0.5)\n",
    "fpr, tpr, threshold = metrics.roc_curve(y_test, y_pred)\n",
    "roc_auc = metrics.auc(fpr, tpr)\n",
    "\n",
    "\n",
    "plt.title('Receiver Operating Characteristic')\n",
    "plt.plot(fpr, tpr, 'b', label = 'AUC = %0.2f' % roc_auc)\n",
    "plt.legend(loc = 'lower right')\n",
    "plt.plot([0, 1], [0, 1],'r--')\n",
    "plt.xlim([0, 1])\n",
    "plt.ylim([0, 1])\n",
    "plt.ylabel('True Positive Rate')\n",
    "plt.xlabel('False Positive Rate')\n",
    "plt.show()\n",
    "\n",
    "\n",
    "# Creating the Confusion Matrix\n",
    "cm = confusion_matrix(y_test, y_pred)\n",
    "print(cm)"
   ]
  },
  {
   "cell_type": "markdown",
   "metadata": {},
   "source": [
    "---"
   ]
  },
  {
   "cell_type": "markdown",
   "metadata": {},
   "source": [
    "**Classification Report**"
   ]
  },
  {
   "cell_type": "code",
   "execution_count": null,
   "metadata": {},
   "outputs": [],
   "source": [
    "from sklearn.metrics import classification_report\n",
    "\n",
    "target_names = ['<=50K', '>50']\n",
    "print(classification_report(y_test, y_pred, target_names=target_names))"
   ]
  },
  {
   "cell_type": "markdown",
   "metadata": {},
   "source": [
    "---"
   ]
  },
  {
   "cell_type": "markdown",
   "metadata": {},
   "source": [
    "# Pending #\n",
    "1. See if you can fine tune keras model(75% acc) to match scikit model(78% acc)\n",
    "2. Exploratory analysis of the dataset\n",
    "3. Latex explanations\n",
    "4. **Cross check what's wrong with ROC  \n",
    "and Confusion matrix**"
   ]
  }
 ],
 "metadata": {
  "kernelspec": {
   "display_name": "Python 3",
   "language": "python",
   "name": "python3"
  },
  "language_info": {
   "codemirror_mode": {
    "name": "ipython",
    "version": 3
   },
   "file_extension": ".py",
   "mimetype": "text/x-python",
   "name": "python",
   "nbconvert_exporter": "python",
   "pygments_lexer": "ipython3",
   "version": "3.6.6"
  }
 },
 "nbformat": 4,
 "nbformat_minor": 2
}
