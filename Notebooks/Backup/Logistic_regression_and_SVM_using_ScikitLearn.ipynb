{
 "cells": [
  {
   "cell_type": "code",
   "execution_count": 1,
   "metadata": {},
   "outputs": [],
   "source": [
    "# Notes on Logistic regression and SVM\n",
    "### Logistic Regression ###\n",
    "\n",
    "# First draft\n",
    "#  1) Load the Iris dataset\n",
    "#  2) Set Test and Training data\n",
    "#  3) Train the logistic regression model with Train dataset\n",
    "#  4) Test the precision using Test dataset\n",
    "\n",
    "# Steps as per standard processes\n",
    "#  1) Load dataset\n",
    "#  2) Explore the dataset\n",
    "#  3) 4 Step Modelling pattern\n",
    "#    a) Import the model\n",
    "#    b) Make an instance of the model\n",
    "#    c) Train the model using train dataset\n",
    "#    d) Predict using test dataset\n",
    "#  4) Check the performance\n",
    "#    a) Score method in sklearn\n",
    "#    b) Confusion matrix\n",
    "\n",
    "### SVM ###\n",
    "\n",
    "# First draft\n",
    "# 1) Load the iris dataset\n",
    "# 2) Split into test and train\n",
    "# 3) Train the model\n",
    "# 4) Test the performance of the model\n",
    "# 5) Tweak the model by changing the parameters(Regularization, Gamma etc)\n",
    "# 6) Observe the changes and ponder on the reasons for the change\n",
    "\n",
    "# Steps followed\n",
    "# 1) 4-step process\n",
    "# 2) The difference in SVM was the part were we could set kernel type - linear or non-linear"
   ]
  },
  {
   "cell_type": "code",
   "execution_count": 2,
   "metadata": {},
   "outputs": [],
   "source": [
    "# Load data \n",
    "\n",
    "from sklearn.datasets import load_iris\n",
    "iris = load_iris()"
   ]
  },
  {
   "cell_type": "code",
   "execution_count": 3,
   "metadata": {},
   "outputs": [],
   "source": [
    "# Split the dataset into test and train datasets\n",
    "\n",
    "from sklearn.model_selection import train_test_split\n",
    "x_train, x_test, y_train, y_test = train_test_split(iris.data, iris.target, test_size=0.60, random_state=0)"
   ]
  },
  {
   "cell_type": "code",
   "execution_count": 4,
   "metadata": {},
   "outputs": [],
   "source": [
    "# Import and create an instance of your model(Logistic regression)\n",
    "\n",
    "from sklearn.linear_model import LogisticRegression\n",
    "logisticRegr = LogisticRegression()\n",
    "\n",
    "# getAttr of logisticRegr #\n",
    "# keras wrapper(for scikit learn) #\n",
    "# Checkout winML repo/source code #"
   ]
  },
  {
   "cell_type": "code",
   "execution_count": 5,
   "metadata": {},
   "outputs": [
    {
     "name": "stderr",
     "output_type": "stream",
     "text": [
      "/home/shakkeel/anaconda3/lib/python3.6/site-packages/sklearn/linear_model/logistic.py:432: FutureWarning: Default solver will be changed to 'lbfgs' in 0.22. Specify a solver to silence this warning.\n",
      "  FutureWarning)\n",
      "/home/shakkeel/anaconda3/lib/python3.6/site-packages/sklearn/linear_model/logistic.py:459: FutureWarning: Default multi_class will be changed to 'auto' in 0.22. Specify the multi_class option to silence this warning.\n",
      "  \"this warning.\", FutureWarning)\n"
     ]
    },
    {
     "data": {
      "text/plain": [
       "LogisticRegression(C=1.0, class_weight=None, dual=False, fit_intercept=True,\n",
       "          intercept_scaling=1, max_iter=100, multi_class='warn',\n",
       "          n_jobs=None, penalty='l2', random_state=None, solver='warn',\n",
       "          tol=0.0001, verbose=0, warm_start=False)"
      ]
     },
     "execution_count": 5,
     "metadata": {},
     "output_type": "execute_result"
    }
   ],
   "source": [
    "# Train your model using the training dataset\n",
    "\n",
    "logisticRegr.fit(x_train,y_train)"
   ]
  },
  {
   "cell_type": "code",
   "execution_count": 6,
   "metadata": {},
   "outputs": [
    {
     "name": "stdout",
     "output_type": "stream",
     "text": [
      "[2 1 0 2 0 2 0 1 1 1 2 1 1 1 2 0 2 2 0 0 2 2 0 0 2 0 0 1 1 0 2 2 0 2 2 2 0\n",
      " 2 2 1 2 0 2 0 0 1 2 2 2 2 1 2 2 1 2 2 2 2 1 2 2 0 2 1 1 1 2 2 0 0 2 1 0 0\n",
      " 1 0 2 1 0 1 2 1 0 2 2 2 2 0 0 2]\n"
     ]
    }
   ],
   "source": [
    "# Predict the output \n",
    "\n",
    "predictions = logisticRegr.predict(x_test)\n",
    "print(predictions)"
   ]
  },
  {
   "cell_type": "code",
   "execution_count": 7,
   "metadata": {},
   "outputs": [
    {
     "name": "stdout",
     "output_type": "stream",
     "text": [
      "0.8777777777777778\n"
     ]
    }
   ],
   "source": [
    "score = logisticRegr.score(x_test,y_test)\n",
    "print(score)"
   ]
  },
  {
   "cell_type": "code",
   "execution_count": 8,
   "metadata": {},
   "outputs": [
    {
     "name": "stdout",
     "output_type": "stream",
     "text": [
      "0.9666666666666667\n",
      "              precision    recall  f1-score   support\n",
      "\n",
      "           0       1.00      1.00      1.00        26\n",
      "           1       0.94      0.97      0.96        33\n",
      "           2       0.97      0.94      0.95        31\n",
      "\n",
      "   micro avg       0.97      0.97      0.97        90\n",
      "   macro avg       0.97      0.97      0.97        90\n",
      "weighted avg       0.97      0.97      0.97        90\n",
      "\n",
      "[[26  0  0]\n",
      " [ 0 32  1]\n",
      " [ 0  2 29]]\n"
     ]
    }
   ],
   "source": [
    "### SVM ###\n",
    "\n",
    "## Using support vector classifier(SVC) ##\n",
    "\n",
    "from sklearn.svm import SVC\n",
    "svclassifier = SVC(kernel='linear')\n",
    "svclassifier.fit(x_train,y_train)\n",
    "prediction = svclassifier.predict(x_test)\n",
    "\n",
    "score = svclassifier.score(x_test,y_test)\n",
    "print(score)\n",
    "\n",
    "# Evaluating the algorithm\n",
    "\n",
    "from sklearn.metrics import classification_report, confusion_matrix\n",
    "print(classification_report(y_test,prediction))\n",
    "print(confusion_matrix(y_test,prediction))"
   ]
  },
  {
   "cell_type": "code",
   "execution_count": 9,
   "metadata": {},
   "outputs": [
    {
     "name": "stdout",
     "output_type": "stream",
     "text": [
      "simple model: <class 'sklearn.linear_model.logistic.LogisticRegression'> \n",
      "ir_version: 3\n",
      "producer_name: \"OnnxMLTools\"\n",
      "producer_version: \"1.2.2.0129\"\n",
      "domain: \"onnxml\"\n",
      "model_version: 0\n",
      "doc_string: \"\"\n",
      "graph {\n",
      "  node {\n",
      "    input: \"input\"\n",
      "    output: \"label\"\n",
      "    output: \"probability_tensor\"\n",
      "    name: \"LinearClassifier\"\n",
      "    op_type: \"LinearClassifier\"\n",
      "    attribute {\n",
      "      name: \"classlabels_ints\"\n",
      "      ints: 0\n",
      "      ints: 1\n",
      "      ints: 2\n",
      "      type: INTS\n",
      "    }\n",
      "    attribute {\n",
      "      name: \"coefficients\"\n",
      "      floats: 0.37919744849205017\n",
      "      floats: 1.1664749383926392\n",
      "      floats: -1.8756707906723022\n",
      "      floats: -0.7896668910980225\n",
      "      floats: 0.3149051368236542\n",
      "      floats: -1.332205891609192\n",
      "      floats: 0.395672470331192\n",
      "      floats: -0.7511692047119141\n",
      "      floats: -1.2906813621520996\n",
      "      floats: -0.7040302753448486\n",
      "      floats: 1.745176076889038\n",
      "      floats: 1.491852045059204\n",
      "      type: FLOATS\n",
      "    }\n",
      "    attribute {\n",
      "      name: \"intercepts\"\n",
      "      floats: 0.23969756066799164\n",
      "      floats: 0.5821720361709595\n",
      "      floats: -0.7657173871994019\n",
      "      type: FLOATS\n",
      "    }\n",
      "    attribute {\n",
      "      name: \"multi_class\"\n",
      "      i: 1\n",
      "      type: INT\n",
      "    }\n",
      "    attribute {\n",
      "      name: \"post_transform\"\n",
      "      s: \"SOFTMAX\"\n",
      "      type: STRING\n",
      "    }\n",
      "    domain: \"ai.onnx.ml\"\n",
      "  }\n",
      "  node {\n",
      "    input: \"probability_tensor\"\n",
      "    output: \"probability_tensor_normalized\"\n",
      "    name: \"Normalizer\"\n",
      "    op_type: \"Normalizer\"\n",
      "    attribute {\n",
      "      name: \"norm\"\n",
      "      s: \"L1\"\n",
      "      type: STRING\n",
      "    }\n",
      "    domain: \"ai.onnx.ml\"\n",
      "  }\n",
      "  node {\n",
      "    input: \"probability_tensor_normalized\"\n",
      "    output: \"probabilities\"\n",
      "    name: \"ZipMap\"\n",
      "    op_type: \"ZipMap\"\n",
      "    attribute {\n",
      "      name: \"classlabels_int64s\"\n",
      "      ints: 0\n",
      "      ints: 1\n",
      "      ints: 2\n",
      "      type: INTS\n",
      "    }\n",
      "    domain: \"ai.onnx.ml\"\n",
      "  }\n",
      "  name: \"LinearSVR\"\n",
      "  input {\n",
      "    name: \"input\"\n",
      "    type {\n",
      "      tensor_type {\n",
      "        elem_type: FLOAT\n",
      "        shape {\n",
      "          dim {\n",
      "            dim_value: 1\n",
      "          }\n",
      "          dim {\n",
      "            dim_value: 2\n",
      "          }\n",
      "        }\n",
      "      }\n",
      "    }\n",
      "  }\n",
      "  output {\n",
      "    name: \"label\"\n",
      "    type {\n",
      "      tensor_type {\n",
      "        elem_type: INT64\n",
      "        shape {\n",
      "          dim {\n",
      "            dim_value: 1\n",
      "          }\n",
      "        }\n",
      "      }\n",
      "    }\n",
      "  }\n",
      "  output {\n",
      "    name: \"probabilities\"\n",
      "    type {\n",
      "      sequence_type {\n",
      "        elem_type {\n",
      "          map_type {\n",
      "            key_type: INT64\n",
      "            value_type {\n",
      "              tensor_type {\n",
      "                elem_type: FLOAT\n",
      "              }\n",
      "            }\n",
      "          }\n",
      "        }\n",
      "      }\n",
      "    }\n",
      "  }\n",
      "}\n",
      "opset_import {\n",
      "  domain: \"ai.onnx.ml\"\n",
      "  version: 1\n",
      "}\n",
      "\n"
     ]
    }
   ],
   "source": [
    "## Testing WinML tools ##\n",
    "from winmltools import convert_sklearn\n",
    "from onnxmltools.convert.common.data_types import FloatTensorType\n",
    "linear_svr_onnx = convert_sklearn(logisticRegr, name='LinearSVR',\n",
    "                                  input_features=[('input', FloatTensorType([1, 2]))])\n",
    "print(linear_svr_onnx)\n",
    "\n",
    "# Qs #\n",
    "# What do you mean by \"name\" parameter being used by mlgen for class names and variables?\n",
    "# How to change the tensor type?\n",
    "# Functionality of convert_sklearn - check source code\n",
    "# Functionality of save_model"
   ]
  },
  {
   "cell_type": "code",
   "execution_count": 10,
   "metadata": {},
   "outputs": [],
   "source": [
    "### SVM using non-linear classifier ###\n",
    "\n",
    "## Gaussian ##\n",
    "## Kernel SVM ##\n",
    "## Sigmoid ##"
   ]
  }
 ],
 "metadata": {
  "kernelspec": {
   "display_name": "Python 3",
   "language": "python",
   "name": "python3"
  },
  "language_info": {
   "codemirror_mode": {
    "name": "ipython",
    "version": 3
   },
   "file_extension": ".py",
   "mimetype": "text/x-python",
   "name": "python",
   "nbconvert_exporter": "python",
   "pygments_lexer": "ipython3",
   "version": "3.6.6"
  }
 },
 "nbformat": 4,
 "nbformat_minor": 2
}
