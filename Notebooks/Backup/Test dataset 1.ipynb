{
 "cells": [
  {
   "cell_type": "markdown",
   "metadata": {},
   "source": [
    "# Notes #\n",
    "1. Data preparation\n",
    "    + \n",
    "\n",
    "\n",
    "**Rough notes**  \n",
    "1. "
   ]
  },
  {
   "cell_type": "markdown",
   "metadata": {},
   "source": [
    "---"
   ]
  },
  {
   "cell_type": "markdown",
   "metadata": {},
   "source": [
    "**Data preparation**"
   ]
  },
  {
   "cell_type": "code",
   "execution_count": 1,
   "metadata": {},
   "outputs": [
    {
     "name": "stdout",
     "output_type": "stream",
     "text": [
      "Class distribution\n",
      "Class 1  50.2\n",
      "Class 2  49.8\n"
     ]
    }
   ],
   "source": [
    "# Data preparation #\n",
    "\n",
    "# Load CSV using Pandas\n",
    "import pandas as pd\n",
    "import numpy as np\n",
    "\n",
    "X = pd.read_csv(\"../data/testData1_features.csv\", delimiter=\",\", header=None, index_col=False)\n",
    "Y = pd.read_csv(\"../data/testData1_target.csv\", delimiter=\",\", header=None, index_col=False)\n",
    "X = X.iloc[1:,1:]\n",
    "Y = Y.iloc[1:,1:]\n",
    "\n",
    "print(\"Class distribution\")    \n",
    "print(\"Class 1 \", Y[1].value_counts()[0] / Y.shape[0] * 100)\n",
    "print(\"Class 2 \", Y[1].value_counts()[1] / Y.shape[0] * 100)\n",
    "\n",
    "# Normalize the X values #\n",
    "from sklearn.preprocessing import StandardScaler\n",
    "sc = StandardScaler()\n",
    "X = sc.fit_transform(X)\n",
    "\n",
    "# Split the dataset into test and train datasets #\n",
    "\n",
    "from sklearn.model_selection import train_test_split\n",
    "x_train, x_test, y_train, y_test = train_test_split(X, Y, test_size=0.60, random_state=0)\n"
   ]
  },
  {
   "cell_type": "markdown",
   "metadata": {},
   "source": [
    "---"
   ]
  },
  {
   "cell_type": "markdown",
   "metadata": {},
   "source": [
    "**Keras Model**"
   ]
  },
  {
   "cell_type": "code",
   "execution_count": 2,
   "metadata": {},
   "outputs": [
    {
     "name": "stderr",
     "output_type": "stream",
     "text": [
      "Using TensorFlow backend.\n"
     ]
    },
    {
     "name": "stdout",
     "output_type": "stream",
     "text": [
      "Epoch 1/10\n",
      "400/400 [==============================] - 2s 5ms/step - loss: 0.8951 - acc: 0.5350\n",
      "Epoch 2/10\n",
      "400/400 [==============================] - 0s 83us/step - loss: 0.6846 - acc: 0.6300\n",
      "Epoch 3/10\n",
      "400/400 [==============================] - 0s 68us/step - loss: 0.5169 - acc: 0.7725\n",
      "Epoch 4/10\n",
      "400/400 [==============================] - 0s 74us/step - loss: 0.3932 - acc: 0.8800\n",
      "Epoch 5/10\n",
      "400/400 [==============================] - 0s 109us/step - loss: 0.2992 - acc: 0.9450\n",
      "Epoch 6/10\n",
      "400/400 [==============================] - 0s 66us/step - loss: 0.2276 - acc: 0.9775\n",
      "Epoch 7/10\n",
      "400/400 [==============================] - 0s 101us/step - loss: 0.1789 - acc: 0.9925\n",
      "Epoch 8/10\n",
      "400/400 [==============================] - 0s 84us/step - loss: 0.1440 - acc: 1.0000\n",
      "Epoch 9/10\n",
      "400/400 [==============================] - 0s 66us/step - loss: 0.1186 - acc: 1.0000\n",
      "Epoch 10/10\n",
      "400/400 [==============================] - 0s 74us/step - loss: 0.1003 - acc: 1.0000\n",
      "600/600 [==============================] - 0s 100us/step\n",
      "\n",
      "acc: 48.83%\n"
     ]
    }
   ],
   "source": [
    "# Keras #\n",
    "\n",
    "### Logistic regression using DNN ###\n",
    "import numpy as np\n",
    "from keras.models import Sequential\n",
    "from keras.layers.core import Dense, Activation\n",
    "from keras.utils import np_utils\n",
    "\n",
    "np.random.seed(7)\n",
    "\n",
    "# Defining model #\n",
    "\n",
    "model = Sequential()\n",
    "model.add(Dense(1,input_dim=4000,activation='sigmoid'))\n",
    "\n",
    "# Compile the model #\n",
    "\n",
    "model.compile(loss='binary_crossentropy', optimizer='adam', metrics=['accuracy'])\n",
    "\n",
    "# Fit the model #\n",
    "\n",
    "model.fit(x_train, y_train, epochs=10, batch_size=100)\n",
    "\n",
    "# Evaluate the model #\n",
    "\n",
    "scores = model.evaluate(x_test, y_test)\n",
    "print(\"\\n%s: %.2f%%\" % (model.metrics_names[1], scores[1]*100))"
   ]
  },
  {
   "cell_type": "markdown",
   "metadata": {},
   "source": [
    "---"
   ]
  },
  {
   "cell_type": "markdown",
   "metadata": {},
   "source": [
    "**Scikit model**"
   ]
  },
  {
   "cell_type": "code",
   "execution_count": 3,
   "metadata": {},
   "outputs": [
    {
     "name": "stdout",
     "output_type": "stream",
     "text": [
      "0.5633333333333334\n"
     ]
    },
    {
     "name": "stderr",
     "output_type": "stream",
     "text": [
      "C:\\Users\\shakk\\Anaconda2\\envs\\py36\\lib\\site-packages\\sklearn\\utils\\validation.py:578: DataConversionWarning: A column-vector y was passed when a 1d array was expected. Please change the shape of y to (n_samples, ), for example using ravel().\n",
      "  y = column_or_1d(y, warn=True)\n"
     ]
    }
   ],
   "source": [
    "# Scikit learn #\n",
    "\n",
    "# Import and create an instance of your model(Logistic regression)\n",
    "\n",
    "from sklearn.linear_model import LogisticRegression\n",
    "logisticRegr = LogisticRegression()\n",
    "\n",
    "# Train your model using the training dataset\n",
    "\n",
    "logisticRegr.fit(x_train,y_train)\n",
    "\n",
    "# Predict the output \n",
    "\n",
    "predictions = logisticRegr.predict(x_test)\n",
    "\n",
    "score = logisticRegr.score(x_test,y_test)\n",
    "print(score)\n"
   ]
  },
  {
   "cell_type": "markdown",
   "metadata": {},
   "source": [
    "---"
   ]
  },
  {
   "cell_type": "markdown",
   "metadata": {},
   "source": [
    "**Kfold validation**"
   ]
  },
  {
   "cell_type": "code",
   "execution_count": 4,
   "metadata": {},
   "outputs": [
    {
     "name": "stdout",
     "output_type": "stream",
     "text": [
      "acc: 46.53%\n",
      "acc: 53.47%\n",
      "acc: 54.00%\n",
      "acc: 59.00%\n",
      "acc: 47.00%\n",
      "acc: 55.00%\n",
      "acc: 48.00%\n",
      "acc: 43.00%\n",
      "acc: 60.61%\n",
      "acc: 59.60%\n",
      "52.62% (+/- 5.86%)\n"
     ]
    }
   ],
   "source": [
    "# Validation #\n",
    "from keras.models import Sequential\n",
    "from keras.layers import Dense\n",
    "from sklearn.model_selection import StratifiedKFold\n",
    "import numpy\n",
    "\n",
    "seed = 7\n",
    "numpy.random.seed(seed)\n",
    "\n",
    "kfold = StratifiedKFold(n_splits=10, shuffle=True, random_state=seed)\n",
    "cvscores = []\n",
    "\n",
    "for train, test in kfold.split(X, Y):\n",
    "    # create model\n",
    "    model = Sequential()\n",
    "    model.add(Dense(1,input_dim=4000,activation='sigmoid'))\n",
    "    # Compile model\n",
    "    model.compile(loss='binary_crossentropy', optimizer='adam', metrics=['accuracy'])\n",
    "    # Fit the model\n",
    "    model.fit(X[train], Y.iloc[train], epochs=10, batch_size=100, verbose=0)\n",
    "    # evaluate the model\n",
    "    scores = model.evaluate(X[test], Y.iloc[test], verbose=0)\n",
    "    print(\"%s: %.2f%%\" % (model.metrics_names[1], scores[1]*100))\n",
    "    cvscores.append(scores[1] * 100)\n",
    "print(\"%.2f%% (+/- %.2f%%)\" % (numpy.mean(cvscores), numpy.std(cvscores)))\n"
   ]
  },
  {
   "cell_type": "markdown",
   "metadata": {},
   "source": [
    "---"
   ]
  },
  {
   "cell_type": "markdown",
   "metadata": {},
   "source": [
    "**ROC Curve and Confusion matrix**"
   ]
  },
  {
   "cell_type": "code",
   "execution_count": 7,
   "metadata": {},
   "outputs": [
    {
     "data": {
      "image/png": "[encoded data removed]",
      "text/plain": [
       "<Figure size 432x288 with 1 Axes>"
      ]
     },
     "metadata": {
      "needs_background": "light"
     },
     "output_type": "display_data"
    },
    {
     "name": "stdout",
     "output_type": "stream",
     "text": [
      "[[296  24]\n",
      " [ 18 262]]\n"
     ]
    }
   ],
   "source": [
    "# Prediction #\n",
    "from sklearn import metrics\n",
    "import matplotlib.pyplot as plt\n",
    "from sklearn.metrics import confusion_matrix\n",
    "\n",
    "y_pred = model.predict(x_test)\n",
    "y_pred = (y_pred>0.5)\n",
    "fpr, tpr, threshold = metrics.roc_curve(y_test, y_pred)\n",
    "roc_auc = metrics.auc(fpr, tpr)\n",
    "\n",
    "\n",
    "plt.title('Receiver Operating Characteristic')\n",
    "plt.plot(fpr, tpr, 'b', label = 'AUC = %0.2f' % roc_auc)\n",
    "plt.legend(loc = 'lower right')\n",
    "plt.plot([0, 1], [0, 1],'r--')\n",
    "plt.xlim([0, 1])\n",
    "plt.ylim([0, 1])\n",
    "plt.ylabel('True Positive Rate')\n",
    "plt.xlabel('False Positive Rate')\n",
    "plt.show()\n",
    "\n",
    "\n",
    "# Creating the Confusion Matrix\n",
    "cm = confusion_matrix(y_test, y_pred)\n",
    "print(cm)"
   ]
  },
  {
   "cell_type": "markdown",
   "metadata": {},
   "source": [
    "---"
   ]
  },
  {
   "cell_type": "markdown",
   "metadata": {},
   "source": [
    "**Classification Report**"
   ]
  },
  {
   "cell_type": "code",
   "execution_count": 6,
   "metadata": {},
   "outputs": [
    {
     "name": "stdout",
     "output_type": "stream",
     "text": [
      "             precision    recall  f1-score   support\n",
      "\n",
      "    Class 1       0.94      0.93      0.93       320\n",
      "    Class 2       0.92      0.94      0.93       280\n",
      "\n",
      "avg / total       0.93      0.93      0.93       600\n",
      "\n"
     ]
    }
   ],
   "source": [
    "from sklearn.metrics import classification_report\n",
    "\n",
    "target_names = ['Class 1', 'Class 2']\n",
    "print(classification_report(y_test, y_pred, target_names=target_names))"
   ]
  },
  {
   "cell_type": "markdown",
   "metadata": {},
   "source": [
    "---"
   ]
  },
  {
   "cell_type": "markdown",
   "metadata": {},
   "source": [
    "# Pending #\n",
    "1. "
   ]
  }
 ],
 "metadata": {
  "kernelspec": {
   "display_name": "Python 3",
   "language": "python",
   "name": "python3"
  },
  "language_info": {
   "codemirror_mode": {
    "name": "ipython",
    "version": 3
   },
   "file_extension": ".py",
   "mimetype": "text/x-python",
   "name": "python",
   "nbconvert_exporter": "python",
   "pygments_lexer": "ipython3",
   "version": "3.6.6"
  }
 },
 "nbformat": 4,
 "nbformat_minor": 2
}
