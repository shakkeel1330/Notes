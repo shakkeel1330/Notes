{
 "cells": [
  {
   "cell_type": "markdown",
   "metadata": {},
   "source": [
    "# Notes #\n",
    "\n",
    "Options available --  \n",
    "\n",
    "1. Blob\n",
    "    + Inner functioning. How is it generated?\n",
    "    + Should we normalize this data?\n",
    "    + Linear classification problems\n",
    "    + Making it a binary dataset\n",
    "2. Moon\n",
    "    + Possible to generate more features?\n",
    "    + Inner functioning\n",
    "    + Binary classification. Swirl pattern\n",
    "3. Circles\n",
    "4. make_classification\n",
    "    + Check what n_informative and n_reduntant does\n",
    "    + Also, go through the other params\n",
    "5. make_multilabel_classification\n",
    "    + Yet to try"
   ]
  },
  {
   "cell_type": "markdown",
   "metadata": {},
   "source": [
    "---"
   ]
  },
  {
   "cell_type": "markdown",
   "metadata": {},
   "source": [
    "**Blob method**"
   ]
  },
  {
   "cell_type": "code",
   "execution_count": null,
   "metadata": {},
   "outputs": [],
   "source": [
    "from sklearn.datasets.samples_generator import make_blobs\n",
    "from matplotlib import pyplot\n",
    "from pandas import DataFrame\n",
    "# generate 2d classification dataset\n",
    "X, y = make_blobs(n_samples=100, centers=3, n_features=2)"
   ]
  },
  {
   "cell_type": "code",
   "execution_count": null,
   "metadata": {},
   "outputs": [],
   "source": [
    "df = DataFrame(dict(x=X[:,0], y=X[:,1], label=y))\n",
    "colors = {0:'red', 1:'blue', 2:'green'}\n",
    "fig, ax = pyplot.subplots()\n",
    "grouped = df.groupby('label')\n",
    "for key, group in grouped:\n",
    "    group.plot(ax=ax, kind='scatter', x='x', y='y', label=key, color=colors[key])\n",
    "pyplot.show()"
   ]
  },
  {
   "cell_type": "code",
   "execution_count": null,
   "metadata": {},
   "outputs": [],
   "source": [
    "import pandas as pd\n",
    "x_df = pd.DataFrame(X)\n",
    "x_df"
   ]
  },
  {
   "cell_type": "markdown",
   "metadata": {},
   "source": [
    "---"
   ]
  },
  {
   "cell_type": "markdown",
   "metadata": {},
   "source": [
    "**Make_classification method**"
   ]
  },
  {
   "cell_type": "code",
   "execution_count": 1,
   "metadata": {},
   "outputs": [],
   "source": [
    "# Test dataset 1 #\n",
    "from sklearn.datasets.samples_generator import make_classification\n",
    "X_1, Y_1 = make_classification(n_samples=1000, n_features=4000)"
   ]
  },
  {
   "cell_type": "code",
   "execution_count": null,
   "metadata": {},
   "outputs": [],
   "source": [
    "# Convert to dataframe #\n",
    "import pandas as pd\n",
    "x1_df = pd.DataFrame(X_1)\n",
    "y1_df = pd.DataFrame(Y_1)\n",
    "y1_df"
   ]
  },
  {
   "cell_type": "code",
   "execution_count": 4,
   "metadata": {},
   "outputs": [],
   "source": [
    "# Save test_data_1 #\n",
    "x1_df.to_csv('testData1_features', sep=',')\n",
    "y1_df.to_csv('testData1_target', sep=',')\n"
   ]
  },
  {
   "cell_type": "code",
   "execution_count": 6,
   "metadata": {},
   "outputs": [],
   "source": [
    "# Test dataset 2 #\n",
    "from sklearn.datasets.samples_generator import make_classification\n",
    "X_2, Y_2 = make_classification(n_samples=800, n_features=800)"
   ]
  },
  {
   "cell_type": "code",
   "execution_count": null,
   "metadata": {},
   "outputs": [],
   "source": [
    "# Convert to dataframe #\n",
    "import pandas as pd\n",
    "x2_df = pd.DataFrame(X_2)\n",
    "y2_df = pd.DataFrame(Y_2)"
   ]
  },
  {
   "cell_type": "code",
   "execution_count": 9,
   "metadata": {},
   "outputs": [],
   "source": [
    "# Save test_data_1 #\n",
    "x2_df.to_csv('testData2_features', sep=',')\n",
    "y2_df.to_csv('testData2_target', sep=',')\n"
   ]
  },
  {
   "cell_type": "code",
   "execution_count": null,
   "metadata": {},
   "outputs": [],
   "source": []
  }
 ],
 "metadata": {
  "kernelspec": {
   "display_name": "Python 3",
   "language": "python",
   "name": "python3"
  },
  "language_info": {
   "codemirror_mode": {
    "name": "ipython",
    "version": 3
   },
   "file_extension": ".py",
   "mimetype": "text/x-python",
   "name": "python",
   "nbconvert_exporter": "python",
   "pygments_lexer": "ipython3",
   "version": "3.6.6"
  }
 },
 "nbformat": 4,
 "nbformat_minor": 2
}
